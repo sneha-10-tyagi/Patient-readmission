{
  "cells": [
    {
      "cell_type": "code",
      "execution_count": 6,
      "metadata": {
        "id": "QSl6SGyS7sNI"
      },
      "outputs": [],
      "source": [
        "import pandas as pd\n",
        "import matplotlib.pyplot as plt\n",
        "import seaborn as sns\n"
      ]
    },
    {
      "cell_type": "markdown",
      "metadata": {
        "id": "1Ty1At4C8JtC"
      },
      "source": [
        "Uploading Dataset"
      ]
    },
    {
      "cell_type": "code",
      "execution_count": 45,
      "metadata": {
        "id": "OP836dj78eHG"
      },
      "outputs": [],
      "source": [
        "df = pd.read_csv('/content/org-diabetic_data.csv')"
      ]
    },
    {
      "cell_type": "code",
      "execution_count": null,
      "metadata": {
        "colab": {
          "base_uri": "https://localhost:8080/"
        },
        "id": "UUAk3tjC82EM",
        "outputId": "51f52e30-548f-4908-96ed-9c3442fa2123"
      },
      "outputs": [
        {
          "data": {
            "text/plain": [
              "(101766, 50)"
            ]
          },
          "execution_count": 5,
          "metadata": {},
          "output_type": "execute_result"
        }
      ],
      "source": [
        "df.shape"
      ]
    },
    {
      "cell_type": "code",
      "execution_count": null,
      "metadata": {
        "id": "lV4vYpDJ9iOu"
      },
      "outputs": [],
      "source": [
        "df.head(10)"
      ]
    },
    {
      "cell_type": "code",
      "execution_count": null,
      "metadata": {
        "id": "0Mg2WY6H_pVK"
      },
      "outputs": [],
      "source": [
        "df.info()"
      ]
    },
    {
      "cell_type": "markdown",
      "metadata": {
        "id": "GVkF9yLs8rh7"
      },
      "source": [
        "Univariate Analysis"
      ]
    },
    {
      "cell_type": "code",
      "execution_count": null,
      "metadata": {
        "id": "9e3ea5ab"
      },
      "outputs": [],
      "source": [
        "int_cols = df.select_dtypes(include='int64')\n",
        "\n",
        "display(int_cols.describe())"
      ]
    },
    {
      "cell_type": "code",
      "execution_count": null,
      "metadata": {
        "id": "toV-q_hkA77q"
      },
      "outputs": [],
      "source": [
        "int_viz = df.select_dtypes(include='int64')\n",
        "int_viz.hist(figsize=(10,10))"
      ]
    },
    {
      "cell_type": "code",
      "execution_count": null,
      "metadata": {
        "id": "b0f92d97"
      },
      "outputs": [],
      "source": [
        "categorical_cols = df.select_dtypes(include='object')\n",
        "\n",
        "for col in categorical_cols.columns:\n",
        "    print(f\"Column: {col}\")\n",
        "    print(df[col].value_counts())\n",
        "    print(\"-\" * 30)"
      ]
    },
    {
      "cell_type": "code",
      "execution_count": null,
      "metadata": {
        "id": "38fl-7PwGXaw"
      },
      "outputs": [],
      "source": [
        "# Visualize the frequency of each category\n",
        "for col in categorical_cols.columns:\n",
        "    plt.figure(figsize=(10, 6))\n",
        "    sns.countplot(data=df, y=col, order=df[col].value_counts().index, palette='viridis', hue=col, legend=False)\n",
        "    plt.title(f'Frequency of {col}')\n",
        "    plt.xlabel('Count')\n",
        "    plt.ylabel(col)\n",
        "    plt.tight_layout()\n",
        "    plt.show()"
      ]
    },
    {
      "cell_type": "markdown",
      "metadata": {
        "id": "i3gsNMBsHB-g"
      },
      "source": [
        "Bivariate Analysis"
      ]
    },
    {
      "cell_type": "code",
      "execution_count": null,
      "metadata": {
        "id": "gNLXLAQhHVuM"
      },
      "outputs": [],
      "source": [
        "# relation bw\n",
        "plt.figure(figsize=(8, 6))\n",
        "sns.boxplot(x='readmitted', y='time_in_hospital', data=df)\n",
        "plt.title('Time in Hospital by Readmission Status')\n",
        "plt.xlabel('Readmitted')\n",
        "plt.ylabel('Time in Hospital')\n",
        "plt.show()"
      ]
    },
    {
      "cell_type": "code",
      "execution_count": null,
      "metadata": {
        "id": "LaUTXWyvHgKS"
      },
      "outputs": [],
      "source": [
        "# filter out the 'Not Mapped' race category\n",
        "df_filtered = df[df['race'] != '?']\n",
        "\n",
        "# grouping by columns - race and readmitted to count the occurrences\n",
        "race_readmitted_counts = df_filtered.groupby(['race', 'readmitted']).size().unstack(fill_value=0)\n",
        "\n",
        "# total count for each race\n",
        "race_readmitted_counts['Total'] = race_readmitted_counts.sum(axis=1)\n",
        "\n",
        "# readmission rates for each race\n",
        "race_readmitted_counts['Readmission Rate (%)'] = (race_readmitted_counts['>30'] + race_readmitted_counts['<30']) / race_readmitted_counts['Total'] * 100\n",
        "\n",
        "#plot\n",
        "race_readmitted_counts[['NO', '<30', '>30']].plot(kind='bar', stacked=True, figsize=(10, 7))\n",
        "plt.title('Readmission Status by Race')\n",
        "plt.xlabel('Race')\n",
        "plt.ylabel('Number of Patients')\n",
        "plt.xticks(rotation=45, ha='right')\n",
        "plt.legend(title='Readmitted Status', loc='upper left')\n",
        "plt.tight_layout()\n",
        "plt.show()\n",
        "\n",
        "#table\n",
        "print(\"Readmission Rates by Race:\")\n",
        "print(race_readmitted_counts[['Total', '<30', '>30', 'Readmission Rate (%)']].sort_values(by='Readmission Rate (%)', ascending=False))\n"
      ]
    },
    {
      "cell_type": "code",
      "execution_count": null,
      "metadata": {
        "id": "Se5FJmWAJm_A"
      },
      "outputs": [],
      "source": [
        "plt.figure(figsize=(10, 6))\n",
        "sns.scatterplot(x='time_in_hospital', y='num_medications', data=df)\n",
        "plt.title('Number of Medications vs. Time in Hospital')\n",
        "plt.xlabel('Time in Hospital')\n",
        "plt.ylabel('Number of Medications')\n",
        "plt.show()\n",
        "\n",
        "# corr coeff\n",
        "correlation = df['time_in_hospital'].corr(df['num_medications'])\n",
        "print(f\"Correlation between Time in Hospital and Number of Medications: {correlation:.2f}\")"
      ]
    },
    {
      "cell_type": "code",
      "execution_count": null,
      "metadata": {
        "id": "y0eeEuWhKAKe"
      },
      "outputs": [],
      "source": [
        "# grouping by columns - age and readmitted to count the occurrences\n",
        "age_readmitted_counts = df.groupby(['age', 'readmitted']).size().unstack(fill_value=0)\n",
        "\n",
        "# total count for each age group\n",
        "age_readmitted_counts['Total'] = age_readmitted_counts.sum(axis=1)\n",
        "\n",
        "# readmission rates for each age group\n",
        "age_readmitted_counts['Readmission Rate (%)'] = (age_readmitted_counts['<30'] + age_readmitted_counts['>30']) / age_readmitted_counts['Total'] * 100\n",
        "\n",
        "age_readmitted_counts = age_readmitted_counts.sort_index()\n",
        "\n",
        "print(\"Readmission Rates by Age Group:\")\n",
        "print((age_readmitted_counts[['Total', '<30', '>30', 'Readmission Rate (%)']]).sort_values(by='Readmission Rate (%)', ascending=False))"
      ]
    },
    {
      "cell_type": "markdown",
      "metadata": {
        "id": "zC5Y3XvNQkq3"
      },
      "source": [
        "# **DATA CLEANING**"
      ]
    },
    {
      "cell_type": "code",
      "execution_count": 46,
      "metadata": {
        "colab": {
          "base_uri": "https://localhost:8080/",
          "height": 34
        },
        "id": "YfslzavGQpAT",
        "outputId": "7cfe848d-0d43-4f25-f0df-825952ac2340"
      },
      "outputs": [
        {
          "data": {
            "text/plain": [
              "(101766, 44)"
            ]
          },
          "metadata": {},
          "output_type": "display_data"
        }
      ],
      "source": [
        "# Dropping unwanted columns\n",
        "columns_to_drop = ['weight', 'payer_code', 'medical_specialty', 'diag_1', 'diag_2', 'diag_3']\n",
        "df1 = df.drop(columns=columns_to_drop)\n",
        "\n",
        "display(df1.shape)"
      ]
    },
    {
      "cell_type": "code",
      "execution_count": 47,
      "metadata": {
        "colab": {
          "base_uri": "https://localhost:8080/"
        },
        "id": "MTjdc0X3RQZW",
        "outputId": "387059e2-7402-4b74-e32a-49703dca37f2"
      },
      "outputs": [
        {
          "data": {
            "text/plain": [
              "(101766, 35)"
            ]
          },
          "execution_count": 47,
          "metadata": {},
          "output_type": "execute_result"
        }
      ],
      "source": [
        "#dropping columns that are near-zero variance predictors\n",
        "col_drop = ['metformin-pioglitazone', 'glimepiride-pioglitazone', 'metformin-rosiglitazone', 'chlorpropamide' , 'acetohexamide' ,  'troglitazone' , 'examide' , 'citoglipton' , 'tolbutamide']\n",
        "df = df1.drop(columns=col_drop)\n",
        "df.shape"
      ]
    },
    {
      "cell_type": "markdown",
      "metadata": {
        "id": "PODWpiWjWUgA"
      },
      "source": [
        "Mapping IDs as per dataset"
      ]
    },
    {
      "cell_type": "code",
      "execution_count": 49,
      "metadata": {
        "id": "0QY6B5UXWWvP"
      },
      "outputs": [],
      "source": [
        "# Map column admission_type_id\n",
        "df_r = df.replace({'admission_type_id': {\n",
        "    1: 'Emergency',\n",
        "    2: 'Urgent',\n",
        "    3: 'Elective',\n",
        "    4: 'Newborn',\n",
        "    5: 'NA',\n",
        "    6: 'NULL',\n",
        "    7: 'Trauma Center',\n",
        "    8: 'Not Mapped'\n",
        "}})\n"
      ]
    },
    {
      "cell_type": "code",
      "execution_count": 50,
      "metadata": {
        "id": "7SsQppQ9bSR7"
      },
      "outputs": [],
      "source": [
        "# Map column discharge_disposition_id\n",
        "df_r1 = df_r.replace({'discharge_disposition_id': {\n",
        "    1: 'Discharged to home',\n",
        "    2: 'Discharged/transferred to another short term hospital',\n",
        "    3: 'Discharged/transferred to SNF',\n",
        "    4: 'Discharged/transferred to ICF',\n",
        "    5: 'Discharged/transferred to another type of inpatient care institution',\n",
        "    6: 'Discharged/transferred to home with home health service',\n",
        "    7: 'Left AMA',\n",
        "    8: 'Discharged/transferred to home under care of Home IV provider',\n",
        "    9: 'Admitted as an inpatient to this hospital',\n",
        "    10: 'Neonate discharged to another hospital for neonatal aftercare',\n",
        "    11: 'Expired',\n",
        "    12: 'Still patient or expected to return for outpatient services',\n",
        "    13: 'Hospice / home',\n",
        "    14: 'Hospice / medical facility',\n",
        "    15: 'Discharged/transferred within this institution to Medicare approved swing bed',\n",
        "    16: 'Discharged/transferred/referred another institution for outpatient services',\n",
        "    17: 'Discharged/transferred/referred to this institution for outpatient services',\n",
        "    18: 'NULL',\n",
        "    19: 'Expired at home. Medicaid only, hospice.',\n",
        "    20: 'Expired in a medical facility. Medicaid only, hospice.',\n",
        "    21: 'Expired, place unknown. Medicaid only, hospice.',\n",
        "    22: 'Discharged/transferred to another rehab fac including rehab units of a hospital .',\n",
        "    23: 'Discharged/transferred to a long term care hospital.',\n",
        "    24: 'Discharged/transferred to a nursing facility certified under Medicaid but not certified under Medicare.',\n",
        "    25: 'Not Mapped',\n",
        "    26: 'Unknown/Invalid',\n",
        "    27: 'Discharged/transferred to a federal health care facility.',\n",
        "    28: 'Discharged/transferred/referred to a psychiatric hospital of psychiatric distinct part unit of a hospital',\n",
        "    29: 'Discharged/transferred to a Critical Access Hospital (CAH).',\n",
        "    30: 'Discharged/transferred to another Type of Health Care Institution not Defined Elsewhere'\n",
        "}})\n",
        "\n",
        "\n"
      ]
    },
    {
      "cell_type": "code",
      "execution_count": 51,
      "metadata": {
        "id": "aRuze0B8bXrM"
      },
      "outputs": [],
      "source": [
        "# Map column admission_source_id\n",
        "df_r2 = df_r1.replace({'admission_source_id': {\n",
        "    1: 'Physician Referral',\n",
        "    2: 'Clinic Referral',\n",
        "    3: 'HMO Referral',\n",
        "    4: 'Transfer from a hospital',\n",
        "    5: 'Transfer from a Skilled Nursing Facility (SNF)',\n",
        "    6: 'Transfer from another health care facility',\n",
        "    7: 'Emergency Room',\n",
        "    8: 'Court/Law Enforcement',\n",
        "    9: 'Not Available',\n",
        "    10: 'Transfer from critial access hospital',\n",
        "    11: 'Normal Delivery',\n",
        "    12: 'Premature Delivery',\n",
        "    13: 'Sick Baby',\n",
        "    14: 'Extramural Birth',\n",
        "    15: 'Not Available',\n",
        "    17: 'NULL',\n",
        "    18: 'Transfer From Another Home Health Agency',\n",
        "    19: 'Readmission to Same Home Health Agency',\n",
        "    20: 'Not Mapped',\n",
        "    21: 'Unknown/Invalid',\n",
        "    22: 'Transfer from hospital inpt/same fac reslt in a sep claim',\n",
        "    23: 'Born inside this hospital',\n",
        "    24: 'Born outside this hospital',\n",
        "    25: 'Transfer from Ambulatory Surgery Center',\n",
        "    26: 'Transfer from Hospice'\n",
        "}})\n",
        "\n",
        "\n"
      ]
    },
    {
      "cell_type": "code",
      "execution_count": null,
      "metadata": {
        "id": "sH_lv2R8dZ6G"
      },
      "outputs": [],
      "source": [
        "df['readmitted_target'] = df_r2['readmitted'].apply(lambda x: 1 if x == '<30' else 0)\n",
        "\n",
        "print(df['readmitted_target'].value_counts())\n",
        "\n",
        "df.head(4)"
      ]
    },
    {
      "cell_type": "code",
      "execution_count": 55,
      "metadata": {
        "id": "OIiI5e-LBk2z"
      },
      "outputs": [],
      "source": [
        "# Converting all data types to object for One-Hot Encoding\n",
        "df = df.astype('object')\n"
      ]
    },
    {
      "cell_type": "code",
      "execution_count": null,
      "metadata": {
        "id": "zkNgdovm7wUl"
      },
      "outputs": [],
      "source": [
        "categorical_cols = df.select_dtypes(include='object').columns.tolist()\n",
        "\n",
        "exclude_cols = ['encounter_id', 'patient_nbr']\n",
        "categorical_cols = [col for col in categorical_cols if col not in exclude_cols]\n",
        "\n",
        "# One-Hot Encoding to all categorical col\n",
        "df_encoded = pd.get_dummies(df, columns=categorical_cols, drop_first=False, dummy_na=False)\n",
        "\n",
        "display(df_encoded.head())\n",
        "print(\"Final encoded shape:\", df_encoded.shape)\n"
      ]
    },
    {
      "cell_type": "code",
      "execution_count": 58,
      "metadata": {
        "colab": {
          "base_uri": "https://localhost:8080/"
        },
        "id": "T6LW5iKNCPcy",
        "outputId": "ea8fdf2f-ec23-427f-c876-f69a2df297ef"
      },
      "outputs": [
        {
          "data": {
            "text/plain": [
              "(101766, 36)"
            ]
          },
          "execution_count": 58,
          "metadata": {},
          "output_type": "execute_result"
        }
      ],
      "source": [
        "df.shape"
      ]
    },
    {
      "cell_type": "markdown",
      "metadata": {
        "id": "wghpVsdrEWUN"
      },
      "source": [
        "Downloading dataset"
      ]
    },
    {
      "cell_type": "code",
      "execution_count": 28,
      "metadata": {
        "colab": {
          "base_uri": "https://localhost:8080/",
          "height": 17
        },
        "id": "n0BpWz409SfX",
        "outputId": "cd9c3444-0bf5-418b-a53f-91c7609a1865"
      },
      "outputs": [
        {
          "data": {
            "application/javascript": "\n    async function download(id, filename, size) {\n      if (!google.colab.kernel.accessAllowed) {\n        return;\n      }\n      const div = document.createElement('div');\n      const label = document.createElement('label');\n      label.textContent = `Downloading \"${filename}\": `;\n      div.appendChild(label);\n      const progress = document.createElement('progress');\n      progress.max = size;\n      div.appendChild(progress);\n      document.body.appendChild(div);\n\n      const buffers = [];\n      let downloaded = 0;\n\n      const channel = await google.colab.kernel.comms.open(id);\n      // Send a message to notify the kernel that we're ready.\n      channel.send({})\n\n      for await (const message of channel.messages) {\n        // Send a message to notify the kernel that we're ready.\n        channel.send({})\n        if (message.buffers) {\n          for (const buffer of message.buffers) {\n            buffers.push(buffer);\n            downloaded += buffer.byteLength;\n            progress.value = downloaded;\n          }\n        }\n      }\n      const blob = new Blob(buffers, {type: 'application/binary'});\n      const a = document.createElement('a');\n      a.href = window.URL.createObjectURL(blob);\n      a.download = filename;\n      div.appendChild(a);\n      a.click();\n      div.remove();\n    }\n  ",
            "text/plain": [
              "<IPython.core.display.Javascript object>"
            ]
          },
          "metadata": {},
          "output_type": "display_data"
        },
        {
          "data": {
            "application/javascript": "download(\"download_1ebcd2b8-39da-4f88-aa6e-563668168598\", \"cleaned_diabetes_data.csv\", 280108317)",
            "text/plain": [
              "<IPython.core.display.Javascript object>"
            ]
          },
          "metadata": {},
          "output_type": "display_data"
        }
      ],
      "source": [
        "from google.colab import files\n",
        "\n",
        "# Save to CSV\n",
        "df_encoded.to_csv('cleaned_diabetes_data.csv', index=False)\n",
        "\n",
        "files.download('cleaned_diabetes_data.csv')\n"
      ]
    }
  ],
  "metadata": {
    "colab": {
      "provenance": []
    },
    "kernelspec": {
      "display_name": "Python 3",
      "name": "python3"
    },
    "language_info": {
      "name": "python"
    }
  },
  "nbformat": 4,
  "nbformat_minor": 0
}
